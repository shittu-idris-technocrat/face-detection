{
 "cells": [
  {
   "cell_type": "code",
   "execution_count": 1,
   "id": "705dcb99",
   "metadata": {},
   "outputs": [
    {
     "name": "stdout",
     "output_type": "stream",
     "text": [
      "Requirement already satisfied: opencv-python in c:\\users\\technocrat\\anaconda3\\lib\\site-packages (4.8.1.78)\n",
      "Requirement already satisfied: numpy>=1.21.2 in c:\\users\\technocrat\\anaconda3\\lib\\site-packages (from opencv-python) (1.25.0)\n"
     ]
    }
   ],
   "source": [
    "#Insatl Open-Cv\n",
    "!pip install opencv-python\n"
   ]
  },
  {
   "cell_type": "code",
   "execution_count": 2,
   "id": "bf8a359e",
   "metadata": {},
   "outputs": [],
   "source": [
    "#import OpenCV\n",
    "import cv2"
   ]
  },
  {
   "cell_type": "code",
   "execution_count": 3,
   "id": "c791b8fc",
   "metadata": {},
   "outputs": [],
   "source": [
    "#leverage Haar-cascade classifier\n",
    "# face_cascade = cv2.CascadeClassifier(cv2.data.haarcascades + \"haarcascade_frontalface_default.xml\")"
   ]
  },
  {
   "cell_type": "code",
   "execution_count": 4,
   "id": "0926e610",
   "metadata": {},
   "outputs": [],
   "source": [
    "#create a function that will detect the face\n",
    "# def detect(gray, frame):\n",
    "#     face = face_cascade.detectMultiScale(gray, 1.3, 5)\n",
    "#     for (x, y, w, h) in face:\n",
    "#         cv2.rectangle(frame, (x,y), (x+w, y+h), (125,100,200), 2)\n",
    "#         roi_gray = gray[y:y+h, x:x+w]\n",
    "#         roi_color = frame[y:y+h, x:x+w]\n",
    "#     return frame\n",
    "            "
   ]
  },
  {
   "cell_type": "code",
   "execution_count": 5,
   "id": "985a22dc",
   "metadata": {},
   "outputs": [],
   "source": [
    "# # a code to call camera from your system using python\n",
    "# capture = cv2.VideoCapture(0) \n",
    "# while True:\n",
    "#     _, frame = capture.read()\n",
    "#     cv2.imshow(\"Video\", frame)\n",
    "#     if cv2.waitKey(1) & 0xff == ord(\"s\"):\n",
    "#         break\n",
    "# capture.release()\n",
    "# cv2.destroyAllWindows()"
   ]
  },
  {
   "cell_type": "code",
   "execution_count": 14,
   "id": "a4744877",
   "metadata": {},
   "outputs": [],
   "source": [
    "# capture = cv2.VideoCapture(0) #0 Local webcam and 1 for externla camera\n",
    "# while True:\n",
    "#     _, frame = capture.read()\n",
    "#     gray = cv2.cvtColor(frame, cv2.COLOR_BGR2GRAY)\n",
    "#     canvas = detect(gray, frame)\n",
    "#     cv2.imshow(\"Video\", canvas)\n",
    "#     if cv2.waitKey(1) & 0xff == ord(\"s\"):\n",
    "#         break\n",
    "# capture.release()\n",
    "# cv2.destroyAllWindows()"
   ]
  },
  {
   "cell_type": "code",
   "execution_count": 7,
   "id": "c7253162",
   "metadata": {},
   "outputs": [],
   "source": [
    "# #detect picture face \n",
    "# capture = cv2.VideoCapture(r\"C:\\Users\\TECHNOCRAT\\Desktop\\files\\Data Scientist\\18th Week Computer Vision\\g3.jpg\") #0 Local webcam and 1 for externla camera\n",
    "# while True:\n",
    "#     _, frame = capture.read()\n",
    "#     gray = cv2.cvtColor(frame, cv2.COLOR_BGR2GRAY)\n",
    "#     canvas = detect(gray, frame)\n",
    "#     cv2.imshow(\"Image\", canvas)\n",
    "#     if cv2.waitKey(0) & 0xff == ord(\"s\"):\n",
    "#         break\n",
    "# capture.release()\n",
    "# cv2.destroyAllWindows()"
   ]
  },
  {
   "cell_type": "code",
   "execution_count": 8,
   "id": "e6d90b07",
   "metadata": {},
   "outputs": [],
   "source": [
    "## detect eyes and smile \n",
    "#leverage Haar-cascade classifier\n",
    "# face_cascade = cv2.CascadeClassifier(cv2.data.haarcascades + \"haarcascade_frontalface_default.xml\")\n",
    "# eye_cascade = cv2.CascadeClassifier(cv2.data.haarcascades + \"haarcascade_eye.xml\")\n",
    "\n",
    "\n",
    "\n"
   ]
  },
  {
   "cell_type": "code",
   "execution_count": 9,
   "id": "7b2edef4",
   "metadata": {},
   "outputs": [],
   "source": [
    "# # create a function that will detect the face, and eyes\n",
    "# def detect(gray, frame):\n",
    "#     face = face_cascade.detectMultiScale(gray, 1.3, 5)\n",
    "#     for (x, y, w, h) in face:\n",
    "#         cv2.rectangle(frame, (x,y), (x+w, y+h), (125,100,200), 2)\n",
    "#         roi_gray = gray[y:y+h, x:x+w]\n",
    "#         roi_color = frame[y:y+h, x:x+w]\n",
    "        \n",
    "#         #eye detection \n",
    "#         eyes = eye_cascade.detectMultiScale(gray, scaleFactor=1.1, minNeighbors=5)\n",
    "#         for (ex, ey, ew, eh) in eyes:\n",
    "#             cv2.rectangle(frame, (ex,ey), (ex+ew, ey+eh), (105,255,206), 2) \n",
    "#     return frame\n",
    "            "
   ]
  },
  {
   "cell_type": "code",
   "execution_count": 10,
   "id": "b00618cb",
   "metadata": {},
   "outputs": [],
   "source": [
    "# #detect picture face \n",
    "# ## detectface and eyes \n",
    "# capture = cv2.VideoCapture(r\"C:\\Users\\TECHNOCRAT\\Desktop\\files\\Data Scientist\\18th Week Computer Vision\\g3.jpg\") #0 Local webcam and 1 for externla camera\n",
    "# while True:\n",
    "#     _, frame = capture.read()\n",
    "#     gray = cv2.cvtColor(frame, cv2.COLOR_BGR2GRAY)\n",
    "#     canvas = detect(gray, frame)\n",
    "#     cv2.imshow(\"Image\", canvas)\n",
    "#     if cv2.waitKey(0) & 0xff == ord(\"s\"):\n",
    "#         break\n",
    "# capture.release()\n",
    "# cv2.destroyAllWindows()"
   ]
  },
  {
   "cell_type": "code",
   "execution_count": 11,
   "id": "78a0465a",
   "metadata": {},
   "outputs": [],
   "source": [
    "#Smile detection \n",
    "#leverage Haar-cascade classifier\n",
    "face_cascade = cv2.CascadeClassifier(cv2.data.haarcascades + \"haarcascade_frontalface_default.xml\")\n",
    "eye_cascade = cv2.CascadeClassifier(cv2.data.haarcascades + \"haarcascade_eye.xml\")\n",
    "smile_cascade = cv2.CascadeClassifier(cv2.data.haarcascades + \"haarcascade_smile.xml\")\n",
    "\n"
   ]
  },
  {
   "cell_type": "code",
   "execution_count": 12,
   "id": "fb67f381",
   "metadata": {},
   "outputs": [],
   "source": [
    "# create a function that will detect the face, eyes and smile\n",
    "def detect(gray, frame):\n",
    "    face = face_cascade.detectMultiScale(gray, 1.3, 5)\n",
    "    for (x, y, w, h) in face:\n",
    "        cv2.rectangle(frame, (x,y), (x+w, y+h), (125,100,200), 2)\n",
    "        roi_gray = gray[y:y+h, x:x+w]\n",
    "        roi_color = frame[y:y+h, x:x+w]\n",
    "        \n",
    "        #eye detection \n",
    "        eyes = eye_cascade.detectMultiScale(gray, scaleFactor=1.1, minNeighbors=5)\n",
    "        for (ex, ey, ew, eh) in eyes:\n",
    "            cv2.rectangle(frame, (ex,ey), (ex+ew, ey+eh), (105,255,206), 2) \n",
    "            \n",
    "            #smile detection\n",
    "        smile = smile_cascade.detectMultiScale(gray, scaleFactor=1.7, minNeighbors=6)\n",
    "        for (sx, sy, sw, sh) in smile:\n",
    "            cv2.rectangle(frame, (sx,sy), (sx+sw, sy+sh), (0,200,100), 2)\n",
    "            \n",
    "     \n",
    "    return frame\n",
    "            "
   ]
  },
  {
   "cell_type": "code",
   "execution_count": 13,
   "id": "3059c08d",
   "metadata": {},
   "outputs": [],
   "source": [
    "#detect picture face \n",
    "## detect face,eyes and smile\n",
    "capture = cv2.VideoCapture(r\"C:\\Users\\TECHNOCRAT\\Desktop\\files\\Data Scientist\\18th Week Computer Vision\\client1.jpg\") #0 Local webcam and 1 for externla camera\n",
    "while True:\n",
    "    _, frame = capture.read()\n",
    "    gray = cv2.cvtColor(frame, cv2.COLOR_BGR2GRAY)\n",
    "    canvas = detect(gray, frame)\n",
    "    cv2.imshow(\"Image\", canvas)\n",
    "    if cv2.waitKey(0) & 0xff == ord(\"s\"):\n",
    "        break\n",
    "capture.release()\n",
    "cv2.destroyAllWindows()"
   ]
  },
  {
   "cell_type": "code",
   "execution_count": null,
   "id": "fbdaed14",
   "metadata": {},
   "outputs": [],
   "source": []
  }
 ],
 "metadata": {
  "kernelspec": {
   "display_name": "Python 3 (ipykernel)",
   "language": "python",
   "name": "python3"
  },
  "language_info": {
   "codemirror_mode": {
    "name": "ipython",
    "version": 3
   },
   "file_extension": ".py",
   "mimetype": "text/x-python",
   "name": "python",
   "nbconvert_exporter": "python",
   "pygments_lexer": "ipython3",
   "version": "3.10.11"
  }
 },
 "nbformat": 4,
 "nbformat_minor": 5
}
